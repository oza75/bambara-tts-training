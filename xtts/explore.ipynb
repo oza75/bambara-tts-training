{
 "cells": [
  {
   "cell_type": "code",
   "execution_count": 1,
   "id": "initial_id",
   "metadata": {
    "collapsed": true,
    "ExecuteTime": {
     "end_time": "2024-05-07T01:38:48.120879300Z",
     "start_time": "2024-05-07T01:38:46.309034300Z"
    }
   },
   "outputs": [],
   "source": [
    "from bambara_xtts.tokenization_xtts import XttsTokenizer"
   ]
  },
  {
   "cell_type": "code",
   "outputs": [
    {
     "name": "stdout",
     "output_type": "stream",
     "text": [
      "/home/aboubacar/.cache/huggingface/hub/models--oza75--bambara-tts/snapshots/4b86f39cb7ff91fd672c5b8753c3062576f49b7e/vocab.json\n",
      "Encoded:  [7217, 5763, 231, 1532, 6945, 33, 2737, 1607, 650, 392, 28, 456, 27, 1081, 7785, 27, 13]\n",
      "Decoded:  [bm] D um uni bɛ t aa far ik ol o fa n ju mɛ n?\n"
     ]
    }
   ],
   "source": [
    "tokenizer = XttsTokenizer.from_pretrained(\"oza75/bambara-tts\")\n",
    "encoded = tokenizer.encode(\"Dumuni bɛ taa farikolo fan jumɛn ?\", lang=\"bm\")\n",
    "print(\"Encoded: \", encoded)\n",
    "decoded = tokenizer.decode(encoded)\n",
    "print(\"Decoded: \", decoded)"
   ],
   "metadata": {
    "collapsed": false,
    "ExecuteTime": {
     "end_time": "2024-05-07T01:39:47.594218Z",
     "start_time": "2024-05-07T01:39:47.438447500Z"
    }
   },
   "id": "100036347ee7219",
   "execution_count": 5
  },
  {
   "cell_type": "code",
   "outputs": [
    {
     "name": "stdout",
     "output_type": "stream",
     "text": [
      "Encoded:  [174, 426, 33, 1412, 803, 13] ['co', 'mmen', 't', 'vas', 'tu', '?']\n",
      "Decoded:  co mmen t vas tu?\n"
     ]
    }
   ],
   "source": [
    "from tokenizers import Tokenizer\n",
    "\n",
    "test_tokenizer = Tokenizer.from_file(\"/home/aboubacar/.cache/huggingface/hub/models--oza75--bambara-tts/snapshots/4b86f39cb7ff91fd672c5b8753c3062576f49b7e/vocab.json\")\n",
    "\n",
    "encoded = test_tokenizer.encode(\"comment vas tu ?\")\n",
    "print(\"Encoded: \", encoded.ids, encoded.tokens)\n",
    "decoded = tokenizer.decode(encoded.ids)\n",
    "print(\"Decoded: \", decoded)"
   ],
   "metadata": {
    "collapsed": false,
    "ExecuteTime": {
     "end_time": "2024-05-07T01:13:26.726860Z",
     "start_time": "2024-05-07T01:13:26.679886900Z"
    }
   },
   "id": "7bb34ceece03709",
   "execution_count": 9
  }
 ],
 "metadata": {
  "kernelspec": {
   "display_name": "Python 3",
   "language": "python",
   "name": "python3"
  },
  "language_info": {
   "codemirror_mode": {
    "name": "ipython",
    "version": 2
   },
   "file_extension": ".py",
   "mimetype": "text/x-python",
   "name": "python",
   "nbconvert_exporter": "python",
   "pygments_lexer": "ipython2",
   "version": "2.7.6"
  }
 },
 "nbformat": 4,
 "nbformat_minor": 5
}
