{
 "cells": [
  {
   "cell_type": "code",
   "execution_count": 1,
   "id": "initial_id",
   "metadata": {
    "collapsed": true,
    "ExecuteTime": {
     "end_time": "2024-05-26T09:24:19.067647800Z",
     "start_time": "2024-05-26T09:24:14.719758Z"
    }
   },
   "outputs": [
    {
     "data": {
      "text/plain": "Resolving data files:   0%|          | 0/18 [00:00<?, ?it/s]",
      "application/vnd.jupyter.widget-view+json": {
       "version_major": 2,
       "version_minor": 0,
       "model_id": "c7cd8bd0d0d24b66ac8aeedd5af41b3f"
      }
     },
     "metadata": {},
     "output_type": "display_data"
    },
    {
     "data": {
      "text/plain": "Loading dataset shards:   0%|          | 0/18 [00:00<?, ?it/s]",
      "application/vnd.jupyter.widget-view+json": {
       "version_major": 2,
       "version_minor": 0,
       "model_id": "6a74d04c94fd4c74827df032b79d4c16"
      }
     },
     "metadata": {},
     "output_type": "display_data"
    },
    {
     "data": {
      "text/plain": "DatasetDict({\n    train: Dataset({\n        features: ['audio', 'bambara', 'french', 'duration', 'speaker_embeddings', 'speaker_id'],\n        num_rows: 30765\n    })\n})"
     },
     "execution_count": 1,
     "metadata": {},
     "output_type": "execute_result"
    }
   ],
   "source": [
    "from datasets import load_dataset\n",
    "import datasets\n",
    "from vq_vae.features import VQVAEProcessor, VQVAEFeatureExtractor\n",
    "import torch\n",
    "\n",
    "# Instantiate the feature extractor and processor\n",
    "feature_extractor = VQVAEFeatureExtractor(sampling_rate=22050, mel_norm_file='../mel_stats.pth', max_samples=221000)\n",
    "processor = VQVAEProcessor(feature_extractor)\n",
    "\n",
    "# Load your Bambara TTS dataset\n",
    "dataset = load_dataset(\"oza75/bambara-tts\", \"denoised\")\n",
    "dataset = dataset.cast_column(\"audio\", datasets.Audio(sampling_rate=22050))\n",
    "dataset"
   ]
  },
  {
   "cell_type": "code",
   "outputs": [
    {
     "data": {
      "text/plain": "10.022675736961451"
     },
     "execution_count": 32,
     "metadata": {},
     "output_type": "execute_result"
    }
   ],
   "source": [
    "221000 / 22050"
   ],
   "metadata": {
    "collapsed": false,
    "ExecuteTime": {
     "end_time": "2024-05-26T01:37:15.390311Z",
     "start_time": "2024-05-26T01:37:15.358307500Z"
    }
   },
   "id": "1de82c0ceffe62d2",
   "execution_count": 32
  },
  {
   "cell_type": "code",
   "outputs": [],
   "source": [
    "batch = processor(dataset['train'][:2])\n",
    "inputs, attention_masks, speaker_embeddings = batch[\"mel_spectrogram\"], batch[\"attention_masks\"], batch['speaker_embeddings']"
   ],
   "metadata": {
    "collapsed": false,
    "ExecuteTime": {
     "end_time": "2024-05-26T09:25:57.885614Z",
     "start_time": "2024-05-26T09:25:57.854884100Z"
    }
   },
   "id": "d520274605317591",
   "execution_count": 7
  },
  {
   "cell_type": "code",
   "outputs": [
    {
     "name": "stdout",
     "output_type": "stream",
     "text": [
      "in_channels:  1\n",
      "in_channels:  64\n",
      "in_channels:  128\n",
      "in_channels:  256\n"
     ]
    },
    {
     "data": {
      "text/plain": "BMSpeechVQVAE(\n  (encoder): Encoder(\n    (encoder): Sequential(\n      (0): Conv2d(1, 64, kernel_size=(4, 4), stride=(2, 2), padding=(1, 1))\n      (1): ReLU()\n      (2): GroupNorm(32, 64, eps=1e-05, affine=True)\n      (3): Conv2d(64, 128, kernel_size=(4, 4), stride=(2, 2), padding=(1, 1))\n      (4): ReLU()\n      (5): GroupNorm(32, 128, eps=1e-05, affine=True)\n      (6): Conv2d(128, 256, kernel_size=(4, 4), stride=(2, 2), padding=(1, 1))\n      (7): ReLU()\n      (8): GroupNorm(32, 256, eps=1e-05, affine=True)\n      (9): Conv2d(256, 512, kernel_size=(4, 4), stride=(2, 2), padding=(1, 1))\n      (10): ReLU()\n    )\n  )\n  (quant_conv): Conv2d(512, 64, kernel_size=(1, 1), stride=(1, 1))\n  (quantize): VectorQuantizer(\n    (embedding): Embedding(512, 64)\n  )\n  (post_quant_conv): Conv2d(64, 512, kernel_size=(1, 1), stride=(1, 1))\n  (speaker_latents_fc): Linear(in_features=1024, out_features=512, bias=True)\n  (decoder): Decoder(\n    (decoder): Sequential(\n      (0): GroupNorm(32, 512, eps=1e-05, affine=True)\n      (1): ConvTranspose2d(512, 256, kernel_size=(4, 4), stride=(2, 2), padding=(1, 1))\n      (2): ReLU()\n      (3): GroupNorm(32, 256, eps=1e-05, affine=True)\n      (4): ConvTranspose2d(256, 128, kernel_size=(4, 4), stride=(2, 2), padding=(1, 1))\n      (5): ReLU()\n      (6): GroupNorm(32, 128, eps=1e-05, affine=True)\n      (7): ConvTranspose2d(128, 64, kernel_size=(4, 4), stride=(2, 2), padding=(1, 1))\n      (8): ReLU()\n      (9): GroupNorm(32, 64, eps=1e-05, affine=True)\n      (10): ConvTranspose2d(64, 1, kernel_size=(4, 4), stride=(2, 2), padding=(1, 1))\n      (11): ReLU()\n    )\n  )\n)"
     },
     "execution_count": 3,
     "metadata": {},
     "output_type": "execute_result"
    }
   ],
   "source": [
    "from vq_vae.models import BMSpeechVQVAE, BMSpeechVQVAEConfig\n",
    "\n",
    "config = BMSpeechVQVAEConfig(in_channels=1, out_channels=1, num_layers=4, latent_channels=512, speaker_embed_dim=512, act_fn='relu')\n",
    "model = BMSpeechVQVAE(config)\n",
    "model"
   ],
   "metadata": {
    "collapsed": false,
    "ExecuteTime": {
     "end_time": "2024-05-26T09:24:23.857395400Z",
     "start_time": "2024-05-26T09:24:22.266182900Z"
    }
   },
   "id": "2a7ff2b42eb16caa",
   "execution_count": 3
  },
  {
   "cell_type": "code",
   "outputs": [
    {
     "data": {
      "text/plain": "torch.Size([512, 5, 54])"
     },
     "execution_count": 9,
     "metadata": {},
     "output_type": "execute_result"
    }
   ],
   "source": [
    "speaker_embeddings.unsqueeze(2).unsqueeze(3).expand(-1, -1, 5, 54)[0].shape"
   ],
   "metadata": {
    "collapsed": false,
    "ExecuteTime": {
     "end_time": "2024-05-26T03:18:18.979978100Z",
     "start_time": "2024-05-26T03:18:18.947975500Z"
    }
   },
   "id": "76b87fe49178a294",
   "execution_count": 9
  },
  {
   "cell_type": "code",
   "outputs": [
    {
     "data": {
      "text/plain": "torch.Size([2, 1, 80, 864])"
     },
     "execution_count": 8,
     "metadata": {},
     "output_type": "execute_result"
    }
   ],
   "source": [
    "bsz, n_mels, time_steps = inputs.shape\n",
    "inputs = inputs.view(bsz, 1, n_mels, time_steps)\n",
    "attention_masks = attention_masks.view(bsz, 1, n_mels, time_steps)\n",
    "speaker_embeddings = torch.stack([torch.tensor(item) for item in speaker_embeddings])\n",
    "inputs.shape"
   ],
   "metadata": {
    "collapsed": false,
    "ExecuteTime": {
     "end_time": "2024-05-26T09:26:02.924308400Z",
     "start_time": "2024-05-26T09:26:02.814742100Z"
    }
   },
   "id": "b524b4bb3820f96d",
   "execution_count": 8
  },
  {
   "cell_type": "code",
   "outputs": [
    {
     "name": "stdout",
     "output_type": "stream",
     "text": [
      "z_e shape: torch.Size([2, 512, 5, 54])\n",
      "z_e quant conved shape: torch.Size([2, 64, 5, 54])\n",
      "z_q shape: torch.Size([2, 64, 5, 54])\n",
      "z_q post shape: torch.Size([2, 512, 5, 54])\n",
      "z_q concat shape: torch.Size([2, 1024, 5, 54])\n",
      "z_q fc shape: torch.Size([2, 512, 5, 54])\n",
      "z_recon shape: torch.Size([2, 1, 80, 864])\n"
     ]
    }
   ],
   "source": [
    "outputs = model(inputs, attention_masks, speaker_embeddings=speaker_embeddings)"
   ],
   "metadata": {
    "collapsed": false,
    "ExecuteTime": {
     "end_time": "2024-05-26T09:26:06.656543600Z",
     "start_time": "2024-05-26T09:26:06.130555800Z"
    }
   },
   "id": "fe642333e2e49f63",
   "execution_count": 9
  },
  {
   "cell_type": "code",
   "outputs": [
    {
     "data": {
      "text/plain": "(tensor(4.3154, grad_fn=<AddBackward0>),\n tensor([[[[0.1472, 0.3314, 0.1975,  ..., 0.2223, 0.2452, 0.1016],\n           [0.0570, 0.2349, 0.0000,  ..., 0.2809, 0.0000, 0.2425],\n           [0.2627, 0.0885, 0.2913,  ..., 0.3492, 0.2087, 0.1468],\n           ...,\n           [0.0092, 0.4624, 0.0000,  ..., 0.0000, 0.0000, 0.3139],\n           [0.1110, 0.0383, 0.0590,  ..., 0.0000, 0.0000, 0.3534],\n           [0.0869, 0.3015, 0.0000,  ..., 0.3252, 0.2253, 0.0530]]],\n \n \n         [[[0.2451, 0.3609, 0.4276,  ..., 0.2718, 0.2316, 0.1087],\n           [0.0013, 0.2102, 0.0000,  ..., 1.2279, 0.0000, 0.5147],\n           [0.2772, 0.0000, 0.4362,  ..., 0.4660, 0.3872, 0.2619],\n           ...,\n           [0.0000, 0.8945, 0.0000,  ..., 0.7992, 0.0000, 0.0175],\n           [0.1648, 0.0000, 0.5626,  ..., 0.0000, 0.0000, 0.0564],\n           [0.0753, 0.4211, 0.0000,  ..., 0.6858, 0.1625, 0.0405]]]],\n        grad_fn=<ReluBackward0>))"
     },
     "execution_count": 10,
     "metadata": {},
     "output_type": "execute_result"
    }
   ],
   "source": [
    "outputs"
   ],
   "metadata": {
    "collapsed": false,
    "ExecuteTime": {
     "end_time": "2024-05-26T03:58:05.801064700Z",
     "start_time": "2024-05-26T03:58:05.700651Z"
    }
   },
   "id": "298c9f258f2043f3",
   "execution_count": 10
  },
  {
   "cell_type": "code",
   "outputs": [
    {
     "data": {
      "text/plain": "Encoder(\n  (encoder): Sequential(\n    (0): Conv1d(80, 64, kernel_size=(4,), stride=(2,), padding=(1,))\n    (1): ReLU()\n    (2): Conv1d(64, 128, kernel_size=(4,), stride=(2,), padding=(1,))\n    (3): ReLU()\n    (4): Conv1d(128, 256, kernel_size=(4,), stride=(2,), padding=(1,))\n    (5): ReLU()\n    (6): Conv1d(256, 512, kernel_size=(4,), stride=(2,), padding=(1,))\n    (7): ReLU()\n    (8): Conv1d(512, 1024, kernel_size=(4,), stride=(2,), padding=(1,))\n    (9): ReLU()\n    (10): Conv1d(1024, 2048, kernel_size=(4,), stride=(2,), padding=(1,))\n    (11): ReLU()\n  )\n)"
     },
     "execution_count": 5,
     "metadata": {},
     "output_type": "execute_result"
    }
   ],
   "source": [
    "from vq_vae.models import Encoder\n",
    "\n",
    "encoder = Encoder(input_channels=80)\n",
    "encoder"
   ],
   "metadata": {
    "collapsed": false,
    "ExecuteTime": {
     "end_time": "2024-05-26T00:38:57.065864Z",
     "start_time": "2024-05-26T00:38:57.010464100Z"
    }
   },
   "id": "63dd35fad5c5fdb7",
   "execution_count": 5
  },
  {
   "cell_type": "code",
   "outputs": [],
   "source": [
    "import numpy as np\n",
    "def count_trainable_parameters(model):\n",
    "    model_parameters = filter(lambda p: p.requires_grad, model.parameters())\n",
    "    params = sum([np.prod(p.size()) for p in model_parameters])\n",
    "    return params"
   ],
   "metadata": {
    "collapsed": false,
    "ExecuteTime": {
     "end_time": "2024-05-26T03:53:11.077778300Z",
     "start_time": "2024-05-26T03:53:11.064250900Z"
    }
   },
   "id": "687c1c27b770d764",
   "execution_count": 6
  },
  {
   "cell_type": "code",
   "outputs": [
    {
     "data": {
      "text/plain": "6132161"
     },
     "execution_count": 7,
     "metadata": {},
     "output_type": "execute_result"
    }
   ],
   "source": [
    "count_trainable_parameters(model)"
   ],
   "metadata": {
    "collapsed": false,
    "ExecuteTime": {
     "end_time": "2024-05-26T03:53:13.153354500Z",
     "start_time": "2024-05-26T03:53:13.145246800Z"
    }
   },
   "id": "8cad8f54d6061554",
   "execution_count": 7
  },
  {
   "cell_type": "code",
   "outputs": [],
   "source": [],
   "metadata": {
    "collapsed": false
   },
   "id": "5cc9a0f5d71b8a03"
  },
  {
   "cell_type": "code",
   "outputs": [
    {
     "data": {
      "text/plain": "SpeechVQVAE(\n  (model): VQVAE(\n    (encoder): Encoder(\n      (conv_in): Conv2d(1, 64, kernel_size=(3, 3), stride=(1, 1), padding=(1, 1))\n      (down_blocks): ModuleList(\n        (0-4): 5 x DownEncoderBlock2D(\n          (resnets): ModuleList(\n            (0): ResnetBlock2D(\n              (norm1): GroupNorm(32, 64, eps=1e-06, affine=True)\n              (conv1): Conv2d(64, 64, kernel_size=(3, 3), stride=(1, 1), padding=(1, 1))\n              (norm2): GroupNorm(32, 64, eps=1e-06, affine=True)\n              (dropout): Dropout(p=0.0, inplace=False)\n              (conv2): Conv2d(64, 64, kernel_size=(3, 3), stride=(1, 1), padding=(1, 1))\n              (nonlinearity): SiLU()\n            )\n          )\n          (downsamplers): ModuleList(\n            (0): Downsample2D(\n              (conv): Conv2d(64, 64, kernel_size=(3, 3), stride=(2, 2))\n            )\n          )\n        )\n        (5): DownEncoderBlock2D(\n          (resnets): ModuleList(\n            (0): ResnetBlock2D(\n              (norm1): GroupNorm(32, 64, eps=1e-06, affine=True)\n              (conv1): Conv2d(64, 64, kernel_size=(3, 3), stride=(1, 1), padding=(1, 1))\n              (norm2): GroupNorm(32, 64, eps=1e-06, affine=True)\n              (dropout): Dropout(p=0.0, inplace=False)\n              (conv2): Conv2d(64, 64, kernel_size=(3, 3), stride=(1, 1), padding=(1, 1))\n              (nonlinearity): SiLU()\n            )\n          )\n        )\n      )\n      (mid_block): UNetMidBlock2D(\n        (attentions): ModuleList(\n          (0): Attention(\n            (group_norm): GroupNorm(32, 64, eps=1e-06, affine=True)\n            (to_q): Linear(in_features=64, out_features=64, bias=True)\n            (to_k): Linear(in_features=64, out_features=64, bias=True)\n            (to_v): Linear(in_features=64, out_features=64, bias=True)\n            (to_out): ModuleList(\n              (0): Linear(in_features=64, out_features=64, bias=True)\n              (1): Dropout(p=0.0, inplace=False)\n            )\n          )\n        )\n        (resnets): ModuleList(\n          (0-1): 2 x ResnetBlock2D(\n            (norm1): GroupNorm(32, 64, eps=1e-06, affine=True)\n            (conv1): Conv2d(64, 64, kernel_size=(3, 3), stride=(1, 1), padding=(1, 1))\n            (norm2): GroupNorm(32, 64, eps=1e-06, affine=True)\n            (dropout): Dropout(p=0.0, inplace=False)\n            (conv2): Conv2d(64, 64, kernel_size=(3, 3), stride=(1, 1), padding=(1, 1))\n            (nonlinearity): SiLU()\n          )\n        )\n      )\n      (conv_norm_out): GroupNorm(32, 64, eps=1e-06, affine=True)\n      (conv_act): SiLU()\n      (conv_out): Conv2d(64, 1, kernel_size=(3, 3), stride=(1, 1), padding=(1, 1))\n    )\n    (quant_conv): Conv2d(1, 64, kernel_size=(1, 1), stride=(1, 1))\n    (quantize): VectorQuantizer(\n      (embedding): Embedding(512, 64)\n    )\n    (post_quant_conv): Conv2d(64, 1, kernel_size=(1, 1), stride=(1, 1))\n    (decoder): Decoder(\n      (conv_in): Conv2d(1, 64, kernel_size=(3, 3), stride=(1, 1), padding=(1, 1))\n      (up_blocks): ModuleList(\n        (0-4): 5 x UpDecoderBlock2D(\n          (resnets): ModuleList(\n            (0-1): 2 x ResnetBlock2D(\n              (norm1): GroupNorm(32, 64, eps=1e-06, affine=True)\n              (conv1): Conv2d(64, 64, kernel_size=(3, 3), stride=(1, 1), padding=(1, 1))\n              (norm2): GroupNorm(32, 64, eps=1e-06, affine=True)\n              (dropout): Dropout(p=0.0, inplace=False)\n              (conv2): Conv2d(64, 64, kernel_size=(3, 3), stride=(1, 1), padding=(1, 1))\n              (nonlinearity): SiLU()\n            )\n          )\n          (upsamplers): ModuleList(\n            (0): Upsample2D(\n              (conv): Conv2d(64, 64, kernel_size=(3, 3), stride=(1, 1), padding=(1, 1))\n            )\n          )\n        )\n        (5): UpDecoderBlock2D(\n          (resnets): ModuleList(\n            (0-1): 2 x ResnetBlock2D(\n              (norm1): GroupNorm(32, 64, eps=1e-06, affine=True)\n              (conv1): Conv2d(64, 64, kernel_size=(3, 3), stride=(1, 1), padding=(1, 1))\n              (norm2): GroupNorm(32, 64, eps=1e-06, affine=True)\n              (dropout): Dropout(p=0.0, inplace=False)\n              (conv2): Conv2d(64, 64, kernel_size=(3, 3), stride=(1, 1), padding=(1, 1))\n              (nonlinearity): SiLU()\n            )\n          )\n        )\n      )\n      (mid_block): UNetMidBlock2D(\n        (attentions): ModuleList(\n          (0): Attention(\n            (group_norm): GroupNorm(32, 64, eps=1e-06, affine=True)\n            (to_q): Linear(in_features=64, out_features=64, bias=True)\n            (to_k): Linear(in_features=64, out_features=64, bias=True)\n            (to_v): Linear(in_features=64, out_features=64, bias=True)\n            (to_out): ModuleList(\n              (0): Linear(in_features=64, out_features=64, bias=True)\n              (1): Dropout(p=0.0, inplace=False)\n            )\n          )\n        )\n        (resnets): ModuleList(\n          (0-1): 2 x ResnetBlock2D(\n            (norm1): GroupNorm(32, 64, eps=1e-06, affine=True)\n            (conv1): Conv2d(64, 64, kernel_size=(3, 3), stride=(1, 1), padding=(1, 1))\n            (norm2): GroupNorm(32, 64, eps=1e-06, affine=True)\n            (dropout): Dropout(p=0.0, inplace=False)\n            (conv2): Conv2d(64, 64, kernel_size=(3, 3), stride=(1, 1), padding=(1, 1))\n            (nonlinearity): SiLU()\n          )\n        )\n      )\n      (conv_norm_out): GroupNorm(32, 64, eps=1e-06, affine=True)\n      (conv_act): SiLU()\n      (conv_out): Conv2d(64, 1, kernel_size=(3, 3), stride=(1, 1), padding=(1, 1))\n    )\n  )\n)"
     },
     "execution_count": 6,
     "metadata": {},
     "output_type": "execute_result"
    }
   ],
   "source": [
    "from vq_vae.models import SpeechVQConfig, SpeechVQVAE\n",
    "\n",
    "speech_config = SpeechVQConfig()\n",
    "speech_model = SpeechVQVAE(speech_config)\n",
    "speech_model"
   ],
   "metadata": {
    "collapsed": false,
    "ExecuteTime": {
     "end_time": "2024-05-25T22:20:51.219482800Z",
     "start_time": "2024-05-25T22:20:51.103312700Z"
    }
   },
   "id": "8b58eec8cb449a61",
   "execution_count": 6
  },
  {
   "cell_type": "code",
   "outputs": [
    {
     "data": {
      "text/plain": "{'audio': {'path': None,\n  'array': array([ 0.00099032,  0.00157957,  0.00133549, ..., -0.00630357,\n         -0.00620323, -0.0061657 ]),\n  'sampling_rate': 22050},\n 'bambara': 'Jigi, i bolo degunnen don wa ?',\n 'french': 'Jigi, es-tu occupé ?',\n 'duration': 2.645986394557823,\n 'speaker_embeddings': [-2.564516305923462,\n  -20.928388595581055,\n  69.90596008300781,\n  8.361804962158203,\n  14.13325309753418,\n  50.45071792602539,\n  80.53385162353516,\n  20.306468963623047,\n  -35.76181411743164,\n  -18.653125762939453,\n  -4.586198329925537,\n  -88.45294952392578,\n  14.038538932800293,\n  -1.9949610233306885,\n  29.295623779296875,\n  35.923561096191406,\n  -4.508488655090332,\n  22.126203536987305,\n  -20.97467803955078,\n  39.27812194824219,\n  15.961697578430176,\n  35.7476806640625,\n  26.484188079833984,\n  -12.542716979980469,\n  -35.30205154418945,\n  92.43451690673828,\n  -11.966684341430664,\n  -48.78108596801758,\n  -42.39558792114258,\n  -20.03965187072754,\n  21.1246395111084,\n  -3.3788418769836426,\n  4.951010227203369,\n  28.377321243286133,\n  6.483303070068359,\n  22.8400936126709,\n  -25.977991104125977,\n  -29.793546676635742,\n  57.73980712890625,\n  24.89046859741211,\n  29.27357292175293,\n  -36.43853759765625,\n  2.8988258838653564,\n  27.480648040771484,\n  50.965885162353516,\n  -13.624982833862305,\n  -32.46949005126953,\n  -56.922157287597656,\n  -17.26017951965332,\n  -39.86939239501953,\n  29.312707901000977,\n  -20.82415199279785,\n  54.84983825683594,\n  -22.218107223510742,\n  -36.76059341430664,\n  51.622413635253906,\n  -1.883241057395935,\n  -40.601043701171875,\n  -29.742855072021484,\n  -37.142147064208984,\n  -47.57329559326172,\n  34.219051361083984,\n  -30.399394989013672,\n  -46.06533432006836,\n  43.49884033203125,\n  32.00458526611328,\n  20.454866409301758,\n  4.120985507965088,\n  -4.164060115814209,\n  -60.530426025390625,\n  -7.026700973510742,\n  8.043845176696777,\n  24.67739486694336,\n  43.86317443847656,\n  -7.474823474884033,\n  0.46787554025650024,\n  45.130916595458984,\n  38.09795379638672,\n  19.422746658325195,\n  76.47749328613281,\n  27.48159408569336,\n  -51.51601791381836,\n  -23.81829833984375,\n  -33.77941131591797,\n  -62.90000534057617,\n  -90.72760772705078,\n  7.46912145614624,\n  32.18686294555664,\n  -8.833662033081055,\n  -46.782230377197266,\n  23.907094955444336,\n  -18.267873764038086,\n  -35.71859359741211,\n  -28.877737045288086,\n  -28.660762786865234,\n  -51.85014724731445,\n  -1.68833327293396,\n  10.06789493560791,\n  -18.645671844482422,\n  -42.14933776855469,\n  -42.69750213623047,\n  -24.54497528076172,\n  82.14134979248047,\n  -34.47978210449219,\n  -18.54983901977539,\n  19.679288864135742,\n  -84.06149291992188,\n  46.03847122192383,\n  -52.40348434448242,\n  10.226248741149902,\n  -35.57990646362305,\n  -29.870332717895508,\n  93.09122467041016,\n  27.703367233276367,\n  -12.817740440368652,\n  61.13278579711914,\n  44.200565338134766,\n  -23.29913330078125,\n  15.031688690185547,\n  13.728151321411133,\n  54.46676254272461,\n  -27.90860939025879,\n  -21.8940372467041,\n  3.353846549987793,\n  -32.59626007080078,\n  -16.549930572509766,\n  59.70781326293945,\n  42.01026153564453,\n  -9.947490692138672,\n  -28.97455596923828,\n  -91.16851043701172,\n  -36.104881286621094,\n  16.596088409423828,\n  17.582672119140625,\n  28.91322135925293,\n  -34.89646530151367,\n  51.393898010253906,\n  60.34601593017578,\n  -28.436222076416016,\n  15.967170715332031,\n  13.461078643798828,\n  18.180830001831055,\n  -53.9082145690918,\n  6.3726420402526855,\n  -29.034725189208984,\n  15.012567520141602,\n  19.838796615600586,\n  31.87262535095215,\n  31.87981414794922,\n  16.550628662109375,\n  -76.61894226074219,\n  -16.54826545715332,\n  0.38607972860336304,\n  -65.8279800415039,\n  -83.44682312011719,\n  26.120208740234375,\n  28.671566009521484,\n  16.963489532470703,\n  -76.42805480957031,\n  -32.7869987487793,\n  -12.69678783416748,\n  3.086686849594116,\n  -8.444923400878906,\n  -56.690467834472656,\n  -13.19163990020752,\n  15.607378005981445,\n  -4.672455787658691,\n  16.49704360961914,\n  10.826493263244629,\n  9.414264678955078,\n  6.042115211486816,\n  -9.529468536376953,\n  44.68365478515625,\n  19.6016902923584,\n  -23.021045684814453,\n  9.810163497924805,\n  -16.0391788482666,\n  -22.48244857788086,\n  44.76421356201172,\n  -11.675890922546387,\n  7.8972015380859375,\n  26.82403564453125,\n  -48.5630989074707,\n  45.273258209228516,\n  -3.325108528137207,\n  18.069957733154297,\n  2.305734157562256,\n  8.970499992370605,\n  -22.079395294189453,\n  12.083640098571777,\n  -20.53093147277832,\n  27.65839958190918,\n  9.007543563842773,\n  12.587262153625488,\n  48.636268615722656,\n  -29.228199005126953,\n  -19.57961082458496,\n  -1.0862787961959839,\n  -1.9710367918014526,\n  51.08119583129883,\n  -20.126798629760742,\n  2.653841972351074,\n  47.42776870727539,\n  -55.045654296875,\n  86.66118621826172,\n  9.60693645477295,\n  28.17914390563965,\n  20.374906539916992,\n  -7.4332685470581055,\n  -32.72675323486328,\n  14.630364418029785,\n  -9.811463356018066,\n  -32.471317291259766,\n  27.320274353027344,\n  47.58587646484375,\n  -19.544998168945312,\n  -38.750526428222656,\n  -36.169525146484375,\n  -38.521934509277344,\n  -17.527795791625977,\n  24.424901962280273,\n  -51.48478317260742,\n  26.406877517700195,\n  -6.216594696044922,\n  -35.67097091674805,\n  -34.92097473144531,\n  -79.72891235351562,\n  -62.80812454223633,\n  26.947589874267578,\n  -17.425539016723633,\n  -61.008995056152344,\n  13.464400291442871,\n  50.110328674316406,\n  49.950260162353516,\n  18.99736976623535,\n  6.337461471557617,\n  -4.104435920715332,\n  0.043445274233818054,\n  -4.5296196937561035,\n  18.747156143188477,\n  -31.07666778564453,\n  4.449049949645996,\n  -15.86186695098877,\n  -72.63101196289062,\n  5.9300150871276855,\n  22.19772720336914,\n  -7.837240219116211,\n  -9.7765474319458,\n  -25.248340606689453,\n  13.924489974975586,\n  -35.45376968383789,\n  30.145526885986328,\n  -48.07661056518555,\n  -40.991031646728516,\n  -51.154212951660156,\n  50.23998260498047,\n  -14.346424102783203,\n  -8.983071327209473,\n  70.84809875488281,\n  -41.084346771240234,\n  -5.712803840637207,\n  14.509126663208008,\n  25.7595272064209,\n  -26.884414672851562,\n  42.87367630004883,\n  17.213790893554688,\n  -30.87527847290039,\n  -2.5770351886749268,\n  7.838781356811523,\n  41.38434600830078,\n  -5.0126543045043945,\n  -43.77375793457031,\n  -48.506568908691406,\n  -25.347415924072266,\n  -12.028441429138184,\n  28.536907196044922,\n  40.63911056518555,\n  1.9020287990570068,\n  51.03679656982422,\n  16.758230209350586,\n  28.018795013427734,\n  -35.101287841796875,\n  -7.466928482055664,\n  33.91496276855469,\n  2.637610673904419,\n  1.545839548110962,\n  93.91095733642578,\n  55.999427795410156,\n  29.01642608642578,\n  -16.735031127929688,\n  53.05579376220703,\n  24.849273681640625,\n  18.901744842529297,\n  5.311429023742676,\n  -36.25160217285156,\n  20.8614444732666,\n  -12.011367797851562,\n  -19.548015594482422,\n  1.195030927658081,\n  -1.7963104248046875,\n  -54.999755859375,\n  -17.092937469482422,\n  9.70566177368164,\n  -27.73084831237793,\n  -4.008399486541748,\n  -104.44620513916016,\n  -25.54340934753418,\n  -36.362770080566406,\n  -18.683940887451172,\n  1.5804367065429688,\n  -12.977066040039062,\n  58.527435302734375,\n  -38.502174377441406,\n  25.88559913635254,\n  26.467817306518555,\n  9.744389533996582,\n  28.739105224609375,\n  -3.6897075176239014,\n  21.574169158935547,\n  16.745962142944336,\n  -17.79192543029785,\n  -18.501794815063477,\n  37.88874435424805,\n  -6.478474140167236,\n  -35.29204177856445,\n  -13.671521186828613,\n  -5.911676406860352,\n  -13.623066902160645,\n  -26.005943298339844,\n  35.706077575683594,\n  12.760231018066406,\n  90.64462280273438,\n  44.36985778808594,\n  -0.417843222618103,\n  18.327241897583008,\n  39.002159118652344,\n  -17.625499725341797,\n  3.107821226119995,\n  58.39173889160156,\n  -22.968952178955078,\n  -10.697909355163574,\n  -27.192298889160156,\n  16.306238174438477,\n  14.62216854095459,\n  0.3568683862686157,\n  27.416879653930664,\n  15.510224342346191,\n  -6.680022716522217,\n  -60.280250549316406,\n  -78.27995300292969,\n  -17.811748504638672,\n  -4.252345085144043,\n  32.58089065551758,\n  25.720983505249023,\n  70.57591247558594,\n  1.9388070106506348,\n  33.51337814331055,\n  66.89360809326172,\n  20.36758804321289,\n  -29.829038619995117,\n  -12.572124481201172,\n  -13.49509048461914,\n  -28.242908477783203,\n  -3.1308987140655518,\n  -53.630027770996094,\n  68.04596710205078,\n  -35.63030242919922,\n  4.50105094909668,\n  35.024593353271484,\n  3.68796443939209,\n  -10.511484146118164,\n  21.679832458496094,\n  -87.7541732788086,\n  -11.59443187713623,\n  43.88369369506836,\n  34.88514709472656,\n  52.92624282836914,\n  -19.997331619262695,\n  -42.53170394897461,\n  34.98576354980469,\n  -26.144163131713867,\n  -11.994940757751465,\n  58.989925384521484,\n  -50.251502990722656,\n  -16.614788055419922,\n  63.402427673339844,\n  35.81391906738281,\n  -23.52379035949707,\n  -48.80287551879883,\n  -13.319616317749023,\n  32.18696975708008,\n  -5.522602558135986,\n  4.89874267578125,\n  -57.16354751586914,\n  7.173929214477539,\n  14.899759292602539,\n  -7.168760299682617,\n  38.77782440185547,\n  -23.399648666381836,\n  35.41054153442383,\n  -26.876989364624023,\n  -21.09638786315918,\n  26.27082061767578,\n  -34.175296783447266,\n  43.06071472167969,\n  -19.212234497070312,\n  -0.591172456741333,\n  15.585540771484375,\n  -62.97133255004883,\n  -41.294944763183594,\n  55.16013717651367,\n  11.177610397338867,\n  3.3601291179656982,\n  -10.840736389160156,\n  92.75001525878906,\n  -70.59852600097656,\n  42.42162322998047,\n  -27.580286026000977,\n  -58.54480743408203,\n  -55.41167449951172,\n  1.2535712718963623,\n  -18.193078994750977,\n  38.90194320678711,\n  -9.257695198059082,\n  -7.312303066253662,\n  27.29463005065918,\n  0.19537687301635742,\n  -16.66988754272461,\n  -28.909025192260742,\n  43.92875289916992,\n  -67.96602630615234,\n  -30.101520538330078,\n  30.175966262817383,\n  -32.40399169921875,\n  -42.1534538269043,\n  -31.815561294555664,\n  -46.824405670166016,\n  -4.850653648376465,\n  -112.90090942382812,\n  -4.622940540313721,\n  8.955965042114258,\n  19.13628578186035,\n  -7.828465938568115,\n  44.29655075073242,\n  55.754913330078125,\n  -61.45326614379883,\n  50.99311065673828,\n  13.434362411499023,\n  26.543964385986328,\n  -43.58027648925781,\n  -15.812703132629395,\n  47.007686614990234,\n  10.247665405273438,\n  72.60283660888672,\n  -42.83134078979492,\n  8.844178199768066,\n  -38.71426773071289,\n  -47.03894805908203,\n  47.67985153198242,\n  10.10999584197998,\n  -11.652137756347656,\n  -4.117611408233643,\n  -41.52143096923828,\n  -0.76872318983078,\n  12.650294303894043,\n  -38.47294235229492,\n  30.83666229248047,\n  -30.399211883544922,\n  19.198537826538086,\n  26.47548484802246,\n  23.671886444091797,\n  11.192642211914062,\n  -5.078183650970459,\n  -4.802126884460449,\n  1.80884850025177,\n  29.79334259033203,\n  -1.4571809768676758,\n  3.8848507404327393,\n  -8.300275802612305,\n  -16.648757934570312,\n  -1.4845240116119385,\n  -20.896696090698242,\n  -62.47117614746094,\n  3.348062515258789,\n  -72.80323028564453,\n  -4.13508939743042,\n  2.214841365814209,\n  -1.9520272016525269,\n  37.336265563964844,\n  25.29061508178711,\n  -8.73267936706543,\n  37.643531799316406,\n  -13.81885814666748,\n  20.672739028930664,\n  12.879124641418457,\n  -33.4730224609375,\n  -36.04478073120117,\n  -12.068825721740723,\n  -3.1313071250915527,\n  43.64976501464844,\n  -23.764814376831055,\n  -12.858123779296875,\n  28.11148452758789,\n  -26.5374755859375,\n  14.073712348937988,\n  22.641258239746094,\n  0.7458633184432983,\n  33.67546081542969,\n  30.3339900970459,\n  22.078264236450195,\n  42.11530685424805,\n  19.859622955322266],\n 'speaker_id': 22}"
     },
     "execution_count": 7,
     "metadata": {},
     "output_type": "execute_result"
    }
   ],
   "source": [
    "dataset['train'][0]"
   ],
   "metadata": {
    "collapsed": false,
    "ExecuteTime": {
     "end_time": "2024-05-25T19:51:24.788700Z",
     "start_time": "2024-05-25T19:51:24.740659200Z"
    }
   },
   "id": "904e5ea6c18d5be3",
   "execution_count": 7
  }
 ],
 "metadata": {
  "kernelspec": {
   "display_name": "Python 3",
   "language": "python",
   "name": "python3"
  },
  "language_info": {
   "codemirror_mode": {
    "name": "ipython",
    "version": 2
   },
   "file_extension": ".py",
   "mimetype": "text/x-python",
   "name": "python",
   "nbconvert_exporter": "python",
   "pygments_lexer": "ipython2",
   "version": "2.7.6"
  }
 },
 "nbformat": 4,
 "nbformat_minor": 5
}
